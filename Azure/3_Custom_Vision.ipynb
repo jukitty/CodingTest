{
  "nbformat": 4,
  "nbformat_minor": 0,
  "metadata": {
    "colab": {
      "provenance": []
    },
    "kernelspec": {
      "name": "python3",
      "display_name": "Python 3"
    },
    "language_info": {
      "name": "python"
    }
  },
  "cells": [
    {
      "cell_type": "code",
      "execution_count": null,
      "metadata": {
        "colab": {
          "base_uri": "https://localhost:8080/"
        },
        "id": "X1nC6tu53sdS",
        "outputId": "990eec89-a143-4a94-c04c-f5f7582277a2"
      },
      "outputs": [
        {
          "output_type": "stream",
          "name": "stdout",
          "text": [
            "Looking in indexes: https://pypi.org/simple, https://us-python.pkg.dev/colab-wheels/public/simple/\n",
            "Collecting azure-cognitiveservices-vision-customvision\n",
            "  Downloading azure_cognitiveservices_vision_customvision-3.1.0-py2.py3-none-any.whl (62 kB)\n",
            "\u001b[K     |████████████████████████████████| 62 kB 570 kB/s \n",
            "\u001b[?25hCollecting msrest>=0.5.0\n",
            "  Downloading msrest-0.7.1-py3-none-any.whl (85 kB)\n",
            "\u001b[K     |████████████████████████████████| 85 kB 3.3 MB/s \n",
            "\u001b[?25hCollecting azure-common~=1.1\n",
            "  Downloading azure_common-1.1.28-py2.py3-none-any.whl (14 kB)\n",
            "Collecting isodate>=0.6.0\n",
            "  Downloading isodate-0.6.1-py2.py3-none-any.whl (41 kB)\n",
            "\u001b[K     |████████████████████████████████| 41 kB 254 kB/s \n",
            "\u001b[?25hRequirement already satisfied: requests~=2.16 in /usr/local/lib/python3.7/dist-packages (from msrest>=0.5.0->azure-cognitiveservices-vision-customvision) (2.23.0)\n",
            "Requirement already satisfied: certifi>=2017.4.17 in /usr/local/lib/python3.7/dist-packages (from msrest>=0.5.0->azure-cognitiveservices-vision-customvision) (2022.9.24)\n",
            "Collecting azure-core>=1.24.0\n",
            "  Downloading azure_core-1.26.0-py3-none-any.whl (178 kB)\n",
            "\u001b[K     |████████████████████████████████| 178 kB 48.2 MB/s \n",
            "\u001b[?25hRequirement already satisfied: requests-oauthlib>=0.5.0 in /usr/local/lib/python3.7/dist-packages (from msrest>=0.5.0->azure-cognitiveservices-vision-customvision) (1.3.1)\n",
            "Requirement already satisfied: typing-extensions>=4.0.1 in /usr/local/lib/python3.7/dist-packages (from azure-core>=1.24.0->msrest>=0.5.0->azure-cognitiveservices-vision-customvision) (4.1.1)\n",
            "Requirement already satisfied: six>=1.11.0 in /usr/local/lib/python3.7/dist-packages (from azure-core>=1.24.0->msrest>=0.5.0->azure-cognitiveservices-vision-customvision) (1.15.0)\n",
            "Requirement already satisfied: idna<3,>=2.5 in /usr/local/lib/python3.7/dist-packages (from requests~=2.16->msrest>=0.5.0->azure-cognitiveservices-vision-customvision) (2.10)\n",
            "Requirement already satisfied: urllib3!=1.25.0,!=1.25.1,<1.26,>=1.21.1 in /usr/local/lib/python3.7/dist-packages (from requests~=2.16->msrest>=0.5.0->azure-cognitiveservices-vision-customvision) (1.24.3)\n",
            "Requirement already satisfied: chardet<4,>=3.0.2 in /usr/local/lib/python3.7/dist-packages (from requests~=2.16->msrest>=0.5.0->azure-cognitiveservices-vision-customvision) (3.0.4)\n",
            "Requirement already satisfied: oauthlib>=3.0.0 in /usr/local/lib/python3.7/dist-packages (from requests-oauthlib>=0.5.0->msrest>=0.5.0->azure-cognitiveservices-vision-customvision) (3.2.1)\n",
            "Installing collected packages: isodate, azure-core, msrest, azure-common, azure-cognitiveservices-vision-customvision\n",
            "Successfully installed azure-cognitiveservices-vision-customvision-3.1.0 azure-common-1.1.28 azure-core-1.26.0 isodate-0.6.1 msrest-0.7.1\n"
          ]
        }
      ],
      "source": [
        "!pip install azure-cognitiveservices-vision-customvision"
      ]
    },
    {
      "cell_type": "code",
      "source": [
        "from azure.cognitiveservices.vision.customvision.training import CustomVisionTrainingClient\n",
        "from azure.cognitiveservices.vision.customvision.training.models import ImageFileCreateEntry\n",
        "from azure.cognitiveservices.vision.customvision.training.models import ImageFileCreateBatch, ImageFileCreateEntry, Region\n",
        "from msrest.authentication import ApiKeyCredentials"
      ],
      "metadata": {
        "id": "jkAnSKT54H55"
      },
      "execution_count": null,
      "outputs": []
    },
    {
      "cell_type": "code",
      "source": [
        "ENDPOINT = 'https://labuser3customvision.cognitiveservices.azure.com/'\n",
        "\n",
        "training_key = 'af35025668034757bdf6d0cb17b17bad'\n",
        "prediction_key = 'bf8e1f619cb148ab9cd0cde6497dbad7'\n",
        "prediction_resource_id = '/subscriptions/7ae06d59-97e1-4a36-bbfe-efb081b9b03b/resourceGroups/RG3/providers/Microsoft.CognitiveServices/accounts/labuser3customvision'"
      ],
      "metadata": {
        "id": "3TKKrfrH6WhS"
      },
      "execution_count": null,
      "outputs": []
    },
    {
      "cell_type": "code",
      "source": [
        "publish_iteration_name = \"classifyModel\"\n",
        "\n",
        "credentials = ApiKeyCredentials(in_headers={\"Training-key\": training_key})\n",
        "trainer = CustomVisionTrainingClient(ENDPOINT, credentials)"
      ],
      "metadata": {
        "id": "X8a2c5EC_jii"
      },
      "execution_count": null,
      "outputs": []
    },
    {
      "cell_type": "code",
      "source": [
        "print('Creating project...')\n",
        "project = trainer.create_project('Labuser3 Project')"
      ],
      "metadata": {
        "colab": {
          "base_uri": "https://localhost:8080/"
        },
        "id": "Bkykbs74ALdl",
        "outputId": "344cd372-ecfb-4ba9-e8a7-b91c4a9bcb59"
      },
      "execution_count": null,
      "outputs": [
        {
          "output_type": "stream",
          "name": "stdout",
          "text": [
            "Creating project...\n"
          ]
        }
      ]
    },
    {
      "cell_type": "code",
      "source": [
        "Jajangmyeon_tag = trainer.create_tag(project.id, 'Jajangmyeon')\n",
        "Champon_tag = trainer.create_tag(project.id, 'Champon')\n",
        "Tangsuyug_tag = trainer.create_tag(project.id, 'Tangsuyug')"
      ],
      "metadata": {
        "colab": {
          "base_uri": "https://localhost:8080/",
          "height": 354
        },
        "id": "SL-Dgrk5GfPG",
        "outputId": "1fec916b-77cc-4981-ca42-a875b5ae4ea7"
      },
      "execution_count": null,
      "outputs": [
        {
          "output_type": "error",
          "ename": "CustomVisionErrorException",
          "evalue": "ignored",
          "traceback": [
            "\u001b[0;31m---------------------------------------------------------------------------\u001b[0m",
            "\u001b[0;31mCustomVisionErrorException\u001b[0m                Traceback (most recent call last)",
            "\u001b[0;32m<ipython-input-27-d8bd34ed6ee3>\u001b[0m in \u001b[0;36m<module>\u001b[0;34m\u001b[0m\n\u001b[0;32m----> 1\u001b[0;31m \u001b[0mJajangmyeon_tag\u001b[0m \u001b[0;34m=\u001b[0m \u001b[0mtrainer\u001b[0m\u001b[0;34m.\u001b[0m\u001b[0mcreate_tag\u001b[0m\u001b[0;34m(\u001b[0m\u001b[0mproject\u001b[0m\u001b[0;34m.\u001b[0m\u001b[0mid\u001b[0m\u001b[0;34m,\u001b[0m \u001b[0;34m'Jajangmyeon'\u001b[0m\u001b[0;34m)\u001b[0m\u001b[0;34m\u001b[0m\u001b[0;34m\u001b[0m\u001b[0m\n\u001b[0m\u001b[1;32m      2\u001b[0m \u001b[0mChampon_tag\u001b[0m \u001b[0;34m=\u001b[0m \u001b[0mtrainer\u001b[0m\u001b[0;34m.\u001b[0m\u001b[0mcreate_tag\u001b[0m\u001b[0;34m(\u001b[0m\u001b[0mproject\u001b[0m\u001b[0;34m.\u001b[0m\u001b[0mid\u001b[0m\u001b[0;34m,\u001b[0m \u001b[0;34m'Champon'\u001b[0m\u001b[0;34m)\u001b[0m\u001b[0;34m\u001b[0m\u001b[0;34m\u001b[0m\u001b[0m\n\u001b[1;32m      3\u001b[0m \u001b[0mTangsuyug_tag\u001b[0m \u001b[0;34m=\u001b[0m \u001b[0mtrainer\u001b[0m\u001b[0;34m.\u001b[0m\u001b[0mcreate_tag\u001b[0m\u001b[0;34m(\u001b[0m\u001b[0mproject\u001b[0m\u001b[0;34m.\u001b[0m\u001b[0mid\u001b[0m\u001b[0;34m,\u001b[0m \u001b[0;34m'Tangsuyug'\u001b[0m\u001b[0;34m)\u001b[0m\u001b[0;34m\u001b[0m\u001b[0;34m\u001b[0m\u001b[0m\n",
            "\u001b[0;32m/usr/local/lib/python3.7/dist-packages/azure/cognitiveservices/vision/customvision/training/operations/_custom_vision_training_client_operations.py\u001b[0m in \u001b[0;36mcreate_tag\u001b[0;34m(self, project_id, name, description, type, custom_headers, raw, **operation_config)\u001b[0m\n\u001b[1;32m   2943\u001b[0m \u001b[0;34m\u001b[0m\u001b[0m\n\u001b[1;32m   2944\u001b[0m         \u001b[0;32mif\u001b[0m \u001b[0mresponse\u001b[0m\u001b[0;34m.\u001b[0m\u001b[0mstatus_code\u001b[0m \u001b[0;32mnot\u001b[0m \u001b[0;32min\u001b[0m \u001b[0;34m[\u001b[0m\u001b[0;36m200\u001b[0m\u001b[0;34m]\u001b[0m\u001b[0;34m:\u001b[0m\u001b[0;34m\u001b[0m\u001b[0;34m\u001b[0m\u001b[0m\n\u001b[0;32m-> 2945\u001b[0;31m             \u001b[0;32mraise\u001b[0m \u001b[0mmodels\u001b[0m\u001b[0;34m.\u001b[0m\u001b[0mCustomVisionErrorException\u001b[0m\u001b[0;34m(\u001b[0m\u001b[0mself\u001b[0m\u001b[0;34m.\u001b[0m\u001b[0m_deserialize\u001b[0m\u001b[0;34m,\u001b[0m \u001b[0mresponse\u001b[0m\u001b[0;34m)\u001b[0m\u001b[0;34m\u001b[0m\u001b[0;34m\u001b[0m\u001b[0m\n\u001b[0m\u001b[1;32m   2946\u001b[0m \u001b[0;34m\u001b[0m\u001b[0m\n\u001b[1;32m   2947\u001b[0m         \u001b[0mdeserialized\u001b[0m \u001b[0;34m=\u001b[0m \u001b[0;32mNone\u001b[0m\u001b[0;34m\u001b[0m\u001b[0;34m\u001b[0m\u001b[0m\n",
            "\u001b[0;31mCustomVisionErrorException\u001b[0m: Name not unique: Jajangmyeon, Project: cb58cd56-1ce0-40d8-9168-d4b395186873"
          ]
        }
      ]
    },
    {
      "cell_type": "code",
      "source": [
        "import time"
      ],
      "metadata": {
        "id": "FxUXW7wPCgcc"
      },
      "execution_count": null,
      "outputs": []
    },
    {
      "cell_type": "code",
      "source": [
        "print('Training....')\n",
        "iteration = trainer.train_project(project.id)    #훈련시키기 명령\n",
        "\n",
        "while(iteration.status != 'Completed'):  #학습이 끝나지 않았으면 반복\n",
        "  iteration = trainer.get_iteration(project.id, iteration.id)\n",
        "  print('Training status' + iteration.status)\n",
        "\n",
        "  time.sleep(3)\n",
        "\n",
        "print('Done!')\n",
        "\n",
        "#여기까지 학습 자동화"
      ],
      "metadata": {
        "colab": {
          "base_uri": "https://localhost:8080/"
        },
        "id": "mgqqzXzvD2xR",
        "outputId": "8d5dd88a-d3f6-4e19-c10c-1e5947db8a1c"
      },
      "execution_count": null,
      "outputs": [
        {
          "output_type": "stream",
          "name": "stdout",
          "text": [
            "Training....\n",
            "Training statusTraining\n",
            "Training statusTraining\n",
            "Training statusTraining\n",
            "Training statusTraining\n",
            "Training statusTraining\n",
            "Training statusTraining\n",
            "Training statusTraining\n",
            "Training statusTraining\n",
            "Training statusTraining\n",
            "Training statusTraining\n",
            "Training statusTraining\n",
            "Training statusTraining\n",
            "Training statusTraining\n",
            "Training statusTraining\n",
            "Training statusTraining\n",
            "Training statusTraining\n",
            "Training statusTraining\n",
            "Training statusTraining\n",
            "Training statusTraining\n",
            "Training statusTraining\n",
            "Training statusTraining\n",
            "Training statusTraining\n",
            "Training statusTraining\n",
            "Training statusTraining\n",
            "Training statusTraining\n",
            "Training statusTraining\n",
            "Training statusTraining\n",
            "Training statusTraining\n",
            "Training statusTraining\n",
            "Training statusTraining\n",
            "Training statusTraining\n",
            "Training statusTraining\n",
            "Training statusTraining\n",
            "Training statusTraining\n",
            "Training statusTraining\n",
            "Training statusTraining\n",
            "Training statusTraining\n",
            "Training statusTraining\n",
            "Training statusTraining\n",
            "Training statusTraining\n",
            "Training statusTraining\n",
            "Training statusTraining\n",
            "Training statusTraining\n",
            "Training statusTraining\n",
            "Training statusTraining\n",
            "Training statusTraining\n",
            "Training statusTraining\n",
            "Training statusTraining\n",
            "Training statusTraining\n",
            "Training statusTraining\n",
            "Training statusTraining\n",
            "Training statusTraining\n",
            "Training statusTraining\n",
            "Training statusTraining\n",
            "Training statusTraining\n",
            "Training statusTraining\n",
            "Training statusTraining\n",
            "Training statusTraining\n",
            "Training statusTraining\n",
            "Training statusTraining\n",
            "Training statusTraining\n",
            "Training statusTraining\n",
            "Training statusTraining\n",
            "Training statusTraining\n",
            "Training statusTraining\n",
            "Training statusTraining\n",
            "Training statusTraining\n",
            "Training statusTraining\n",
            "Training statusTraining\n",
            "Training statusTraining\n",
            "Training statusTraining\n",
            "Training statusTraining\n",
            "Training statusTraining\n",
            "Training statusTraining\n",
            "Training statusTraining\n",
            "Training statusTraining\n",
            "Training statusTraining\n",
            "Training statusTraining\n",
            "Training statusTraining\n",
            "Training statusTraining\n",
            "Training statusTraining\n",
            "Training statusTraining\n",
            "Training statusTraining\n",
            "Training statusTraining\n",
            "Training statusTraining\n",
            "Training statusTraining\n",
            "Training statusTraining\n",
            "Training statusTraining\n",
            "Training statusTraining\n",
            "Training statusTraining\n",
            "Training statusTraining\n",
            "Training statusTraining\n",
            "Training statusTraining\n",
            "Training statusTraining\n",
            "Training statusTraining\n",
            "Training statusTraining\n",
            "Training statusTraining\n",
            "Training statusTraining\n",
            "Training statusTraining\n",
            "Training statusTraining\n",
            "Training statusTraining\n",
            "Training statusTraining\n",
            "Training statusTraining\n",
            "Training statusTraining\n",
            "Training statusTraining\n",
            "Training statusTraining\n",
            "Training statusTraining\n",
            "Training statusTraining\n",
            "Training statusTraining\n",
            "Training statusTraining\n",
            "Training statusTraining\n",
            "Training statusTraining\n",
            "Training statusTraining\n",
            "Training statusTraining\n",
            "Training statusTraining\n",
            "Training statusTraining\n",
            "Training statusTraining\n",
            "Training statusTraining\n",
            "Training statusTraining\n",
            "Training statusTraining\n",
            "Training statusCompleted\n",
            "Done!\n"
          ]
        }
      ]
    },
    {
      "cell_type": "code",
      "source": [],
      "metadata": {
        "id": "6lcwgPwMFJrh"
      },
      "execution_count": null,
      "outputs": []
    }
  ]
}